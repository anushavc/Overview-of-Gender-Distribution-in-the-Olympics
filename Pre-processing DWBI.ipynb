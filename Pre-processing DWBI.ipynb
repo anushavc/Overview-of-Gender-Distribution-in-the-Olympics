{
 "cells": [
  {
   "cell_type": "markdown",
   "id": "5e0927b3",
   "metadata": {},
   "source": [
    "## Pre-Processing Script for Gender Distribution in Olympics "
   ]
  },
  {
   "cell_type": "code",
   "execution_count": 397,
   "id": "916f57ba",
   "metadata": {},
   "outputs": [],
   "source": [
    "#Importing the libraries\n",
    "\n",
    "import pandas as pd\n",
    "import numpy as np"
   ]
  },
  {
   "cell_type": "code",
   "execution_count": 398,
   "id": "53aa67cf",
   "metadata": {},
   "outputs": [],
   "source": [
    "#Merging athletes and medalsdatasets\n",
    "\n",
    "athlete_2020=pd.read_csv(\"olympicdataset1/athletes.csv\")\n",
    "medals_2020=pd.read_csv(\"olympicdataset1/medals.csv\")\n",
    "medals_2020=medals_2020[['athlete_name','medal_type']]\n",
    "\n",
    "result_df = pd.merge(athlete_2020,medals_2020, left_on='name', right_on='athlete_name',how='left') # Left join on name"
   ]
  },
  {
   "cell_type": "code",
   "execution_count": 399,
   "id": "9e136a2e",
   "metadata": {},
   "outputs": [
    {
     "data": {
      "text/html": [
       "<div>\n",
       "<style scoped>\n",
       "    .dataframe tbody tr th:only-of-type {\n",
       "        vertical-align: middle;\n",
       "    }\n",
       "\n",
       "    .dataframe tbody tr th {\n",
       "        vertical-align: top;\n",
       "    }\n",
       "\n",
       "    .dataframe thead th {\n",
       "        text-align: right;\n",
       "    }\n",
       "</style>\n",
       "<table border=\"1\" class=\"dataframe\">\n",
       "  <thead>\n",
       "    <tr style=\"text-align: right;\">\n",
       "      <th></th>\n",
       "      <th>name</th>\n",
       "      <th>short_name</th>\n",
       "      <th>gender</th>\n",
       "      <th>birth_date</th>\n",
       "      <th>birth_place</th>\n",
       "      <th>birth_country</th>\n",
       "      <th>country</th>\n",
       "      <th>country_code</th>\n",
       "      <th>discipline</th>\n",
       "      <th>discipline_code</th>\n",
       "      <th>residence_place</th>\n",
       "      <th>residence_country</th>\n",
       "      <th>height_m/ft</th>\n",
       "      <th>url</th>\n",
       "      <th>athlete_name</th>\n",
       "      <th>medal_type</th>\n",
       "    </tr>\n",
       "  </thead>\n",
       "  <tbody>\n",
       "    <tr>\n",
       "      <th>0</th>\n",
       "      <td>AALERUD Katrine</td>\n",
       "      <td>AALERUD K</td>\n",
       "      <td>Female</td>\n",
       "      <td>1994-12-04</td>\n",
       "      <td>VESTBY</td>\n",
       "      <td>Norway</td>\n",
       "      <td>Norway</td>\n",
       "      <td>NOR</td>\n",
       "      <td>Cycling Road</td>\n",
       "      <td>CRD</td>\n",
       "      <td>NaN</td>\n",
       "      <td>NaN</td>\n",
       "      <td>NaN</td>\n",
       "      <td>../../../en/results/cycling-road/athlete-profi...</td>\n",
       "      <td>NaN</td>\n",
       "      <td>NaN</td>\n",
       "    </tr>\n",
       "    <tr>\n",
       "      <th>1</th>\n",
       "      <td>ABAD Nestor</td>\n",
       "      <td>ABAD N</td>\n",
       "      <td>Male</td>\n",
       "      <td>1993-03-29</td>\n",
       "      <td>ALCOI</td>\n",
       "      <td>Spain</td>\n",
       "      <td>Spain</td>\n",
       "      <td>ESP</td>\n",
       "      <td>Artistic Gymnastics</td>\n",
       "      <td>GAR</td>\n",
       "      <td>MADRID</td>\n",
       "      <td>Spain</td>\n",
       "      <td>1.65/5'4''</td>\n",
       "      <td>../../../en/results/artistic-gymnastics/athlet...</td>\n",
       "      <td>NaN</td>\n",
       "      <td>NaN</td>\n",
       "    </tr>\n",
       "    <tr>\n",
       "      <th>2</th>\n",
       "      <td>ABAGNALE Giovanni</td>\n",
       "      <td>ABAGNALE G</td>\n",
       "      <td>Male</td>\n",
       "      <td>1995-01-11</td>\n",
       "      <td>GRAGNANO</td>\n",
       "      <td>Italy</td>\n",
       "      <td>Italy</td>\n",
       "      <td>ITA</td>\n",
       "      <td>Rowing</td>\n",
       "      <td>ROW</td>\n",
       "      <td>SABAUDIA</td>\n",
       "      <td>Italy</td>\n",
       "      <td>1.98/6'5''</td>\n",
       "      <td>../../../en/results/rowing/athlete-profile-n13...</td>\n",
       "      <td>NaN</td>\n",
       "      <td>NaN</td>\n",
       "    </tr>\n",
       "    <tr>\n",
       "      <th>3</th>\n",
       "      <td>ABALDE Alberto</td>\n",
       "      <td>ABALDE A</td>\n",
       "      <td>Male</td>\n",
       "      <td>1995-12-15</td>\n",
       "      <td>FERROL</td>\n",
       "      <td>Spain</td>\n",
       "      <td>Spain</td>\n",
       "      <td>ESP</td>\n",
       "      <td>Basketball</td>\n",
       "      <td>BKB</td>\n",
       "      <td>NaN</td>\n",
       "      <td>NaN</td>\n",
       "      <td>2.00/6'6''</td>\n",
       "      <td>../../../en/results/basketball/athlete-profile...</td>\n",
       "      <td>NaN</td>\n",
       "      <td>NaN</td>\n",
       "    </tr>\n",
       "    <tr>\n",
       "      <th>4</th>\n",
       "      <td>ABALDE Tamara</td>\n",
       "      <td>ABALDE T</td>\n",
       "      <td>Female</td>\n",
       "      <td>1989-02-06</td>\n",
       "      <td>VIGO</td>\n",
       "      <td>Spain</td>\n",
       "      <td>Spain</td>\n",
       "      <td>ESP</td>\n",
       "      <td>Basketball</td>\n",
       "      <td>BKB</td>\n",
       "      <td>NaN</td>\n",
       "      <td>NaN</td>\n",
       "      <td>1.92/6'3''</td>\n",
       "      <td>../../../en/results/basketball/athlete-profile...</td>\n",
       "      <td>NaN</td>\n",
       "      <td>NaN</td>\n",
       "    </tr>\n",
       "  </tbody>\n",
       "</table>\n",
       "</div>"
      ],
      "text/plain": [
       "                name  short_name  gender  birth_date birth_place  \\\n",
       "0    AALERUD Katrine   AALERUD K  Female  1994-12-04      VESTBY   \n",
       "1        ABAD Nestor      ABAD N    Male  1993-03-29       ALCOI   \n",
       "2  ABAGNALE Giovanni  ABAGNALE G    Male  1995-01-11    GRAGNANO   \n",
       "3     ABALDE Alberto    ABALDE A    Male  1995-12-15      FERROL   \n",
       "4      ABALDE Tamara    ABALDE T  Female  1989-02-06        VIGO   \n",
       "\n",
       "  birth_country country country_code           discipline discipline_code  \\\n",
       "0        Norway  Norway          NOR         Cycling Road             CRD   \n",
       "1         Spain   Spain          ESP  Artistic Gymnastics             GAR   \n",
       "2         Italy   Italy          ITA               Rowing             ROW   \n",
       "3         Spain   Spain          ESP           Basketball             BKB   \n",
       "4         Spain   Spain          ESP           Basketball             BKB   \n",
       "\n",
       "  residence_place residence_country height_m/ft  \\\n",
       "0             NaN               NaN         NaN   \n",
       "1          MADRID             Spain  1.65/5'4''   \n",
       "2        SABAUDIA             Italy  1.98/6'5''   \n",
       "3             NaN               NaN  2.00/6'6''   \n",
       "4             NaN               NaN  1.92/6'3''   \n",
       "\n",
       "                                                 url athlete_name medal_type  \n",
       "0  ../../../en/results/cycling-road/athlete-profi...          NaN        NaN  \n",
       "1  ../../../en/results/artistic-gymnastics/athlet...          NaN        NaN  \n",
       "2  ../../../en/results/rowing/athlete-profile-n13...          NaN        NaN  \n",
       "3  ../../../en/results/basketball/athlete-profile...          NaN        NaN  \n",
       "4  ../../../en/results/basketball/athlete-profile...          NaN        NaN  "
      ]
     },
     "execution_count": 399,
     "metadata": {},
     "output_type": "execute_result"
    }
   ],
   "source": [
    "result_df.head(5)"
   ]
  },
  {
   "cell_type": "code",
   "execution_count": 400,
   "id": "569be457",
   "metadata": {},
   "outputs": [],
   "source": [
    "#Dropping the athelete_name column due to redudancy\n",
    "result_df=result_df.drop(['athlete_name'],axis=1)"
   ]
  },
  {
   "cell_type": "code",
   "execution_count": 401,
   "id": "aaf50e3c",
   "metadata": {},
   "outputs": [],
   "source": [
    "#Changing the NA Medal Type to 'No Medal'\n",
    "result_df['medal_type'].fillna('no medal', inplace=True)"
   ]
  },
  {
   "cell_type": "code",
   "execution_count": 402,
   "id": "759be6fe",
   "metadata": {},
   "outputs": [],
   "source": [
    "#Saving new athletes_2020 csv file\n",
    "result_df.to_csv('athletes_2020.csv', index=False)"
   ]
  },
  {
   "cell_type": "code",
   "execution_count": 403,
   "id": "640d3c4e",
   "metadata": {},
   "outputs": [
    {
     "name": "stdout",
     "output_type": "stream",
     "text": [
      "Missing Percentage per Column:\n",
      "name                  0.000000\n",
      "short_name            0.000000\n",
      "gender                1.337821\n",
      "birth_date            1.337821\n",
      "birth_place          34.413126\n",
      "birth_country        28.380311\n",
      "country               0.000000\n",
      "country_code          0.000000\n",
      "discipline            1.337821\n",
      "discipline_code       0.000000\n",
      "residence_place      37.585191\n",
      "residence_country    43.601178\n",
      "height_m/ft          60.546908\n",
      "url                   0.000000\n",
      "medal_type            0.000000\n",
      "dtype: float64\n"
     ]
    }
   ],
   "source": [
    "#Checking for missing percentages \n",
    "missing_percentage = result_df.isnull().mean() * 100\n",
    "print(\"Missing Percentage per Column:\")\n",
    "print(missing_percentage)"
   ]
  },
  {
   "cell_type": "code",
   "execution_count": 404,
   "id": "4334fbb8",
   "metadata": {},
   "outputs": [],
   "source": [
    "#Reading the historical athlete dataset\n",
    "athletes_historical=pd.read_csv(\"olympicdataset2/athlete_events.csv\")"
   ]
  },
  {
   "cell_type": "code",
   "execution_count": 405,
   "id": "2ba19254",
   "metadata": {},
   "outputs": [],
   "source": [
    "#Ensuring the categories in both datasets (Athlete 2020 and Historical Athlete dataset are same)\n",
    "\n",
    "result_df['discipline'] = result_df['discipline'].str.replace('Equestrian', 'Equestrianism')\n",
    "result_df['discipline'] = result_df['discipline'].str.replace('Cycling Road', 'Cycling')\n",
    "result_df['discipline'] = result_df['discipline'].str.replace('Cycling BMX Freestyle', 'Cycling')\n",
    "result_df['discipline'] = result_df['discipline'].str.replace('Cycling BMX Racing', 'Cycling')\n",
    "result_df['discipline'] = result_df['discipline'].str.replace('Cycling Mountain Bike', 'Cycling')\n",
    "result_df['discipline'] = result_df['discipline'].str.replace('Cycling Track', 'Cycling')\n",
    "result_df['discipline'] = result_df['discipline'].str.replace('Artistic Gymnastics', 'Gymnastics')\n",
    "result_df['discipline'] = result_df['discipline'].str.replace('Artistic Swimming', 'Swimming')\n",
    "result_df['discipline'] = result_df['discipline'].str.replace('Canoe Slalom', 'Canoeing')\n",
    "result_df['discipline'] = result_df['discipline'].str.replace('Trampoline Gymnastics', 'Trampolining')\n",
    "result_df['discipline'] = result_df['discipline'].str.replace('Artistic Swimming', 'Swimming')\n",
    "result_df['discipline'] = result_df['discipline'].str.replace('Canoe Sprint', 'Canoeing')\n",
    "result_df['discipline'] = result_df['discipline'].str.replace('Marathon Swimming', 'Swimming')\n",
    "athletes_historical['Sport'] = athletes_historical['Sport'].str.replace('Softball', 'Baseball/Softball')\n",
    "athletes_historical['Sport'] = athletes_historical['Sport'].str.replace('Baseball', 'Baseball/Softball')"
   ]
  },
  {
   "cell_type": "code",
   "execution_count": 406,
   "id": "caef18f2",
   "metadata": {},
   "outputs": [
    {
     "name": "stdout",
     "output_type": "stream",
     "text": [
      "Index(['name', 'short_name', 'gender', 'birth_date', 'birth_place',\n",
      "       'birth_country', 'country', 'country_code', 'discipline',\n",
      "       'discipline_code', 'residence_place', 'residence_country',\n",
      "       'height_m/ft', 'url', 'medal_type'],\n",
      "      dtype='object')\n",
      "Index(['ID', 'Name', 'Sex', 'Age', 'Height', 'Weight', 'Team', 'NOC', 'Games',\n",
      "       'Year', 'Season', 'City', 'Sport', 'Event', 'Medal'],\n",
      "      dtype='object')\n"
     ]
    }
   ],
   "source": [
    "#merging the datasets\n",
    "print(result_df.columns)\n",
    "print(athletes_historical.columns)"
   ]
  },
  {
   "cell_type": "code",
   "execution_count": 407,
   "id": "6291d2e2",
   "metadata": {},
   "outputs": [],
   "source": [
    "from datetime import datetime\n",
    "\n",
    "#Calculating age from birth_date\n",
    "\n",
    "result_df['birth_date'] = pd.to_datetime(result_df['birth_date'])\n",
    "current_date = datetime.now()\n",
    "result_df['Age'] = (current_date - result_df['birth_date']).astype('<m8[Y]')\n"
   ]
  },
  {
   "cell_type": "code",
   "execution_count": 408,
   "id": "433ae62f",
   "metadata": {},
   "outputs": [
    {
     "name": "stdout",
     "output_type": "stream",
     "text": [
      "Index(['name', 'short_name', 'gender', 'birth_date', 'birth_place',\n",
      "       'birth_country', 'country', 'country_code', 'discipline',\n",
      "       'discipline_code', 'residence_place', 'residence_country',\n",
      "       'height_m/ft', 'url', 'medal_type', 'Age'],\n",
      "      dtype='object')\n"
     ]
    }
   ],
   "source": [
    "print(result_df.columns)\n"
   ]
  },
  {
   "cell_type": "code",
   "execution_count": 409,
   "id": "1787077e",
   "metadata": {},
   "outputs": [],
   "source": [
    "#adding 2020 year to the historical merged dataset\n",
    "result_df['Year'] = 2020"
   ]
  },
  {
   "cell_type": "code",
   "execution_count": 410,
   "id": "aa2a852e",
   "metadata": {},
   "outputs": [],
   "source": [
    "#Renaming column names\n",
    "\n",
    "result_df.rename(columns={'name': 'Name'}, inplace=True)"
   ]
  },
  {
   "cell_type": "code",
   "execution_count": 411,
   "id": "84c3b8aa",
   "metadata": {},
   "outputs": [],
   "source": [
    "#Dripping column name\n",
    "result_df.drop(columns='short_name', inplace=True)"
   ]
  },
  {
   "cell_type": "code",
   "execution_count": 412,
   "id": "345ea4ba",
   "metadata": {},
   "outputs": [],
   "source": [
    "#edit gender to sex\n",
    "result_df.rename(columns={'gender': 'Sex'}, inplace=True)"
   ]
  },
  {
   "cell_type": "code",
   "execution_count": 413,
   "id": "18383ad8",
   "metadata": {},
   "outputs": [],
   "source": [
    "#edit height_m/ft to Height\n",
    "result_df.rename(columns={'height_m/ft': 'Height'}, inplace=True)\n"
   ]
  },
  {
   "cell_type": "code",
   "execution_count": 414,
   "id": "fcb90693",
   "metadata": {},
   "outputs": [],
   "source": [
    "#added column city\n",
    "result_df['City'] = \"Tokyo\""
   ]
  },
  {
   "cell_type": "code",
   "execution_count": 415,
   "id": "94fa6372",
   "metadata": {},
   "outputs": [],
   "source": [
    "#added column Season\n",
    "result_df['Season'] = \"Summer\""
   ]
  },
  {
   "cell_type": "code",
   "execution_count": 416,
   "id": "5b2559aa",
   "metadata": {},
   "outputs": [],
   "source": [
    "#edit medal_type to medal\n",
    "result_df.rename(columns={'medal_type': 'Medal'}, inplace=True)"
   ]
  },
  {
   "cell_type": "code",
   "execution_count": 417,
   "id": "1ba7e434",
   "metadata": {},
   "outputs": [],
   "source": [
    "#edit discipline to Sport\n",
    "result_df.rename(columns={'discipline': 'Sport'}, inplace=True)"
   ]
  },
  {
   "cell_type": "code",
   "execution_count": 418,
   "id": "9327bd3d",
   "metadata": {},
   "outputs": [],
   "source": [
    "#dropping unwanted columns\n",
    "result_df.drop(columns='residence_place', inplace=True)\n",
    "result_df.drop(columns='residence_country', inplace=True)\n",
    "result_df.drop(columns='birth_date', inplace=True)\n",
    "result_df.drop(columns='birth_place', inplace=True)\n",
    "result_df.drop(columns='birth_country', inplace=True)\n",
    "result_df.drop(columns='discipline_code', inplace=True)\n",
    "result_df.drop(columns='url', inplace=True)"
   ]
  },
  {
   "cell_type": "code",
   "execution_count": 419,
   "id": "7aa8f21d",
   "metadata": {},
   "outputs": [
    {
     "name": "stdout",
     "output_type": "stream",
     "text": [
      "                        Name     Sex  country country_code       Sport  \\\n",
      "0            AALERUD Katrine  Female   Norway          NOR     Cycling   \n",
      "1                ABAD Nestor    Male    Spain          ESP  Gymnastics   \n",
      "2          ABAGNALE Giovanni    Male    Italy          ITA      Rowing   \n",
      "3             ABALDE Alberto    Male    Spain          ESP  Basketball   \n",
      "4              ABALDE Tamara  Female    Spain          ESP  Basketball   \n",
      "...                      ...     ...      ...          ...         ...   \n",
      "11880  ZWICKER Martin Detlef    Male  Germany          GER      Hockey   \n",
      "11881      ZWOLINSKA Klaudia  Female   Poland          POL    Canoeing   \n",
      "11882           ZYKOVA Yulia  Female      ROC          ROC    Shooting   \n",
      "11883      ZYUZINA Ekaterina  Female      ROC          ROC     Sailing   \n",
      "11884        ZYZANSKA Sylwia  Female   Poland          POL     Archery   \n",
      "\n",
      "           Height     Medal   Age  Year   City  Season  \n",
      "0             NaN  no medal  29.0  2020  Tokyo  Summer  \n",
      "1      1.65/5'4''  no medal  30.0  2020  Tokyo  Summer  \n",
      "2      1.98/6'5''  no medal  28.0  2020  Tokyo  Summer  \n",
      "3      2.00/6'6''  no medal  27.0  2020  Tokyo  Summer  \n",
      "4      1.92/6'3''  no medal  34.0  2020  Tokyo  Summer  \n",
      "...           ...       ...   ...   ...    ...     ...  \n",
      "11880  1.76/5'9''  no medal  36.0  2020  Tokyo  Summer  \n",
      "11881         NaN  no medal  24.0  2020  Tokyo  Summer  \n",
      "11882         NaN    Silver  28.0  2020  Tokyo  Summer  \n",
      "11883         NaN  no medal  27.0  2020  Tokyo  Summer  \n",
      "11884         NaN  no medal  26.0  2020  Tokyo  Summer  \n",
      "\n",
      "[11885 rows x 11 columns]\n"
     ]
    }
   ],
   "source": [
    "#Replacing medaltype\n",
    "result_df['Medal'].replace('Silver Medal', 'Silver', inplace=True)\n",
    "result_df['Medal'].replace('Gold Medal', 'Gold', inplace=True)\n",
    "result_df['Medal'].replace('Bronze Medal', 'Bronze', inplace=True)\n",
    "\n",
    "# Display the updated DataFrame\n",
    "print(result_df)\n"
   ]
  },
  {
   "cell_type": "code",
   "execution_count": 420,
   "id": "b60df7dc",
   "metadata": {},
   "outputs": [],
   "source": [
    "#removing country_code\n",
    "result_df.drop(columns='country_code', inplace=True)"
   ]
  },
  {
   "cell_type": "code",
   "execution_count": 421,
   "id": "022fb3de",
   "metadata": {},
   "outputs": [],
   "source": [
    "#edit city to host city\n",
    "result_df.rename(columns={'City': 'Host City'}, inplace=True)\n",
    "athletes_historical.rename(columns={'City':'Host City'},inplace=True)\n"
   ]
  },
  {
   "cell_type": "code",
   "execution_count": 422,
   "id": "acd9a016",
   "metadata": {},
   "outputs": [],
   "source": [
    "#Merge noc dataset and historical athlete datasets \n",
    "\n",
    "noc_regions=pd.read_csv(\"olympicdataset2/noc_regions.csv\")\n",
    "athletes_historical= pd.merge(athletes_historical,noc_regions, left_on='NOC', right_on='NOC',how='left')\n",
    "athletes_historical.drop(columns='NOC', inplace=True)"
   ]
  },
  {
   "cell_type": "code",
   "execution_count": 423,
   "id": "ab8803b9",
   "metadata": {},
   "outputs": [],
   "source": [
    "#remove unwanted columns from athlete history and result_df\n",
    "athletes_historical.drop(columns='ID', inplace=True)\n",
    "athletes_historical.drop(columns='Event', inplace=True)\n",
    "athletes_historical.drop(columns='Height', inplace=True)\n",
    "athletes_historical.drop(columns='Weight', inplace=True)\n",
    "athletes_historical.drop(columns='Games', inplace=True)\n",
    "result_df.drop(columns='Height',inplace=True)"
   ]
  },
  {
   "cell_type": "code",
   "execution_count": 424,
   "id": "274ca623",
   "metadata": {},
   "outputs": [],
   "source": [
    "#edit country to team\n",
    "athletes_historical.rename(columns={'region': 'country'}, inplace=True)"
   ]
  },
  {
   "cell_type": "code",
   "execution_count": 425,
   "id": "b34b9895",
   "metadata": {},
   "outputs": [],
   "source": [
    "athletes_historical['Sex'].replace('M', 'Male', inplace=True)\n",
    "athletes_historical['Sex'].replace('F', 'Female', inplace=True)"
   ]
  },
  {
   "cell_type": "code",
   "execution_count": 426,
   "id": "70cad744",
   "metadata": {},
   "outputs": [],
   "source": [
    "athletes_historical['Medal'].fillna('no medal', inplace=True)"
   ]
  },
  {
   "cell_type": "code",
   "execution_count": 427,
   "id": "b9314963",
   "metadata": {},
   "outputs": [],
   "source": [
    "final_olympics_history= pd.concat([athletes_historical,result_df ], ignore_index=True)"
   ]
  },
  {
   "cell_type": "code",
   "execution_count": 428,
   "id": "0cca06de",
   "metadata": {},
   "outputs": [],
   "source": [
    "final_olympics_history['country'] = final_olympics_history['country'].replace({\n",
    "    'China': 'People\\'s Republic of China',\n",
    "    'UK': 'United Kingdom',\n",
    "    'USA': 'United States of America',\n",
    "    'Chinese Taipei': 'Taiwan',\n",
    "    'Taiwan': 'Chinese Taipei',\n",
    "    'EOR': 'Refugee Olympic Team',\n",
    "    'Ivory Coast': 'Côte d\\'Ivoire'\n",
    "})\n"
   ]
  },
  {
   "cell_type": "code",
   "execution_count": 429,
   "id": "7481a83f",
   "metadata": {},
   "outputs": [],
   "source": [
    "final_olympics_history=final_olympics_history.drop(\"Team\",axis=1)"
   ]
  },
  {
   "cell_type": "code",
   "execution_count": 430,
   "id": "78373869",
   "metadata": {},
   "outputs": [],
   "source": [
    "final_olympics_history=final_olympics_history.drop(\"notes\",axis=1)"
   ]
  },
  {
   "cell_type": "code",
   "execution_count": 431,
   "id": "18f672e7",
   "metadata": {},
   "outputs": [
    {
     "name": "stdout",
     "output_type": "stream",
     "text": [
      "                            Name     Sex   Age  Year  Season  Host City  \\\n",
      "0                      A Dijiang    Male  24.0  1992  Summer  Barcelona   \n",
      "1                       A Lamusi    Male  23.0  2012  Summer     London   \n",
      "2            Gunnar Nielsen Aaby    Male  24.0  1920  Summer  Antwerpen   \n",
      "3           Edgar Lindenau Aabye    Male  34.0  1900  Summer      Paris   \n",
      "4       Christine Jacoba Aaftink  Female  21.0  1988  Winter    Calgary   \n",
      "...                          ...     ...   ...   ...     ...        ...   \n",
      "282996     ZWICKER Martin Detlef    Male  36.0  2020  Summer      Tokyo   \n",
      "282997         ZWOLINSKA Klaudia  Female  24.0  2020  Summer      Tokyo   \n",
      "282998              ZYKOVA Yulia  Female  28.0  2020  Summer      Tokyo   \n",
      "282999         ZYUZINA Ekaterina  Female  27.0  2020  Summer      Tokyo   \n",
      "283000           ZYZANSKA Sylwia  Female  26.0  2020  Summer      Tokyo   \n",
      "\n",
      "                Sport     Medal                     country  \n",
      "0          Basketball  no medal  People's Republic of China  \n",
      "1                Judo  no medal  People's Republic of China  \n",
      "2            Football  no medal                     Denmark  \n",
      "3          Tug-Of-War      Gold                     Denmark  \n",
      "4       Speed Skating  no medal                 Netherlands  \n",
      "...               ...       ...                         ...  \n",
      "282996         Hockey  no medal                     Germany  \n",
      "282997       Canoeing  no medal                      Poland  \n",
      "282998       Shooting    Silver                         ROC  \n",
      "282999        Sailing  no medal                         ROC  \n",
      "283000        Archery  no medal                      Poland  \n",
      "\n",
      "[283001 rows x 9 columns]\n"
     ]
    }
   ],
   "source": [
    "print(final_olympics_history)"
   ]
  },
  {
   "cell_type": "code",
   "execution_count": 432,
   "id": "1410b038",
   "metadata": {},
   "outputs": [],
   "source": [
    "#Concatenating the two datasets\n",
    "final_olympics_history.to_csv('olympics_history.csv', index=False)"
   ]
  }
 ],
 "metadata": {
  "kernelspec": {
   "display_name": "Python 3 (ipykernel)",
   "language": "python",
   "name": "python3"
  },
  "language_info": {
   "codemirror_mode": {
    "name": "ipython",
    "version": 3
   },
   "file_extension": ".py",
   "mimetype": "text/x-python",
   "name": "python",
   "nbconvert_exporter": "python",
   "pygments_lexer": "ipython3",
   "version": "3.11.4"
  }
 },
 "nbformat": 4,
 "nbformat_minor": 5
}
